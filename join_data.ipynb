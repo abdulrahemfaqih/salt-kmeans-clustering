{
 "cells": [
  {
   "cell_type": "code",
   "execution_count": 41,
   "id": "e42ffe4b",
   "metadata": {},
   "outputs": [],
   "source": [
    "import pandas as pd\n",
    "import numpy as np"
   ]
  },
  {
   "cell_type": "code",
   "execution_count": 42,
   "id": "7419b108",
   "metadata": {},
   "outputs": [
    {
     "name": "stdout",
     "output_type": "stream",
     "text": [
      "Data Luas Lahan:\n",
      "Shape: (85, 7)\n",
      "           KABKOTA  2019   2020  2021  2022  2023  2024\n",
      "0  ACEH BARAT DAYA   0.0    0.0   0.0   0.0   2.0   0.0\n",
      "1       ACEH BESAR   3.0   54.0   6.0   0.0   7.0   0.0\n",
      "2     ACEH SELATAN   0.0    1.0   0.0   0.0   1.0   0.0\n",
      "3       ACEH TIMUR   1.0   13.0   0.0   0.0  10.0   0.0\n",
      "4       ACEH UTARA  53.0  107.0  72.0  72.0  13.0   1.0\n",
      "\n",
      "Data Produksi:\n",
      "Shape: (84, 7)\n",
      "           KABKOTA     2019     2020     2021     2022     2023     2024\n",
      "0  ACEH BARAT DAYA    21.70    34.82   108.39    96.40   101.67    63.30\n",
      "1       ACEH BESAR   800.16  8616.50  1016.32   503.48   490.36  1095.74\n",
      "2     ACEH SELATAN     2.88    42.96    42.93    57.75   161.83    47.21\n",
      "3       ACEH TIMUR   484.19   306.08   197.86   269.25   225.08   169.65\n",
      "4       ACEH UTARA  1688.71  1523.45  1513.30  1822.34  1485.58  1023.56\n"
     ]
    }
   ],
   "source": [
    "df_luas = pd.read_excel(\"luas_lahan.xlsx\")\n",
    "df_produksi = pd.read_excel(\"produksi_garam.xlsx\")\n",
    "\n",
    "print(\"Data Luas Lahan:\")\n",
    "print(f\"Shape: {df_luas.shape}\")\n",
    "print(df_luas.head())\n",
    "\n",
    "print(\"\\nData Produksi:\")\n",
    "print(f\"Shape: {df_produksi.shape}\")\n",
    "print(df_produksi.head())"
   ]
  },
  {
   "cell_type": "code",
   "execution_count": 43,
   "id": "7e3a2333",
   "metadata": {},
   "outputs": [
    {
     "name": "stdout",
     "output_type": "stream",
     "text": [
      "\n",
      "=== LANGKAH 2: DATA CLEANING - HAPUS MISSING VALUES DAN NILAI 0 ===\n",
      "Kolom tahun luas lahan: ['2019', '2020', '2021', '2022', '2023', '2024']\n",
      "Kolom tahun produksi: ['2019', '2020', '2021', '2022', '2023', '2024']\n",
      "\n",
      "--- CLEANING DATA LUAS LAHAN ---\n",
      "Sebelum cleaning: 85 kabupaten\n",
      "Setelah cleaning: 39 kabupaten\n",
      "Dihapus: 46 kabupaten\n",
      "\n",
      "--- CLEANING DATA PRODUKSI ---\n",
      "Sebelum cleaning: 84 kabupaten\n",
      "Setelah cleaning: 55 kabupaten\n",
      "Dihapus: 29 kabupaten\n"
     ]
    }
   ],
   "source": [
    "print(\"\\n=== LANGKAH 2: DATA CLEANING - HAPUS MISSING VALUES DAN NILAI 0 ===\")\n",
    "\n",
    "# Identifikasi kolom tahun\n",
    "tahun_cols_luas = [col for col in df_luas.columns if col != 'KABKOTA']\n",
    "tahun_cols_produksi = [col for col in df_produksi.columns if col != 'KABKOTA']\n",
    "\n",
    "print(f\"Kolom tahun luas lahan: {tahun_cols_luas}\")\n",
    "print(f\"Kolom tahun produksi: {tahun_cols_produksi}\")\n",
    "\n",
    "# CLEANING DATA LUAS LAHAN\n",
    "print(\"\\n--- CLEANING DATA LUAS LAHAN ---\")\n",
    "print(f\"Sebelum cleaning: {len(df_luas)} kabupaten\")\n",
    "\n",
    "# Hapus baris yang ada missing values atau nilai 0\n",
    "mask_luas = (~df_luas[tahun_cols_luas].isna().any(axis=1)) & (~(df_luas[tahun_cols_luas] == 0).any(axis=1))\n",
    "df_luas_clean = df_luas[mask_luas].copy()\n",
    "\n",
    "print(f\"Setelah cleaning: {len(df_luas_clean)} kabupaten\")\n",
    "print(f\"Dihapus: {len(df_luas) - len(df_luas_clean)} kabupaten\")\n",
    "\n",
    "# CLEANING DATA PRODUKSI\n",
    "print(\"\\n--- CLEANING DATA PRODUKSI ---\")\n",
    "print(f\"Sebelum cleaning: {len(df_produksi)} kabupaten\")\n",
    "\n",
    "# Hapus baris yang ada missing values atau nilai 0\n",
    "mask_produksi = (~df_produksi[tahun_cols_produksi].isna().any(axis=1)) & (~(df_produksi[tahun_cols_produksi] == 0).any(axis=1))\n",
    "df_produksi_clean = df_produksi[mask_produksi].copy()\n",
    "\n",
    "print(f\"Setelah cleaning: {len(df_produksi_clean)} kabupaten\")\n",
    "print(f\"Dihapus: {len(df_produksi) - len(df_produksi_clean)} kabupaten\")"
   ]
  },
  {
   "cell_type": "code",
   "execution_count": 44,
   "id": "b9622c32",
   "metadata": {},
   "outputs": [
    {
     "name": "stdout",
     "output_type": "stream",
     "text": [
      "\n",
      "=== LANGKAH 3: CEK KABUPATEN YANG SAMA ===\n",
      "Kabupaten di data luas lahan: 39\n",
      "Kabupaten di data produksi: 55\n",
      "Kabupaten yang sama (bisa digabung): 35\n",
      "Hanya di luas lahan: 4\n",
      "Hanya di produksi: 20\n",
      "\n",
      "Kabupaten hanya di luas lahan:\n",
      "  - SIDOARJO\n",
      "  - KOTA SURABAYA\n",
      "  - TIMOR TENGAH UTARA\n",
      "  - LUAS LAHAN (Ha)\n",
      "\n",
      "Kabupaten hanya di produksi:\n",
      "  - LEMBATA\n",
      "  - KEPULAUAN SELAYAR\n",
      "  - ROTE NDAO\n",
      "  - ACEH BARAT DAYA\n",
      "  - SUMBA TIMUR\n"
     ]
    }
   ],
   "source": [
    "print(\"\\n=== LANGKAH 3: CEK KABUPATEN YANG SAMA ===\")\n",
    "\n",
    "# Cek kabupaten yang ada di kedua dataset\n",
    "kabupaten_luas = set(df_luas_clean['KABKOTA'])\n",
    "kabupaten_produksi = set(df_produksi_clean['KABKOTA'])\n",
    "\n",
    "# Kabupaten yang ada di kedua dataset\n",
    "kabupaten_sama = kabupaten_luas.intersection(kabupaten_produksi)\n",
    "\n",
    "# Kabupaten yang hanya ada di satu dataset\n",
    "kabupaten_hanya_luas = kabupaten_luas - kabupaten_produksi\n",
    "kabupaten_hanya_produksi = kabupaten_produksi - kabupaten_luas\n",
    "\n",
    "print(f\"Kabupaten di data luas lahan: {len(kabupaten_luas)}\")\n",
    "print(f\"Kabupaten di data produksi: {len(kabupaten_produksi)}\")\n",
    "print(f\"Kabupaten yang sama (bisa digabung): {len(kabupaten_sama)}\")\n",
    "print(f\"Hanya di luas lahan: {len(kabupaten_hanya_luas)}\")\n",
    "print(f\"Hanya di produksi: {len(kabupaten_hanya_produksi)}\")\n",
    "\n",
    "if len(kabupaten_hanya_luas) > 0:\n",
    "    print(f\"\\nKabupaten hanya di luas lahan:\")\n",
    "    for kab in list(kabupaten_hanya_luas)[:5]:  # Tampilkan 5 pertama\n",
    "        print(f\"  - {kab}\")\n",
    "\n",
    "if len(kabupaten_hanya_produksi) > 0:\n",
    "    print(f\"\\nKabupaten hanya di produksi:\")\n",
    "    for kab in list(kabupaten_hanya_produksi)[:5]:  # Tampilkan 5 pertama\n",
    "        print(f\"  - {kab}\")"
   ]
  },
  {
   "cell_type": "code",
   "execution_count": 45,
   "id": "dd866398",
   "metadata": {},
   "outputs": [
    {
     "name": "stdout",
     "output_type": "stream",
     "text": [
      "\n",
      "=== LANGKAH 4: CEK TAHUN YANG SAMA ===\n",
      "Tahun di data luas lahan: ['2019', '2020', '2021', '2022', '2023', '2024']\n",
      "Tahun di data produksi: ['2019', '2020', '2021', '2022', '2023', '2024']\n",
      "Tahun yang sama: ['2019', '2020', '2021', '2022', '2023', '2024']\n",
      "Akan menggabungkan data untuk tahun: ['2019', '2020', '2021', '2022', '2023', '2024']\n"
     ]
    }
   ],
   "source": [
    "print(\"\\n=== LANGKAH 4: CEK TAHUN YANG SAMA ===\")\n",
    "\n",
    "# Cek tahun yang sama di kedua dataset\n",
    "tahun_luas = set(tahun_cols_luas)\n",
    "tahun_produksi = set(tahun_cols_produksi)\n",
    "tahun_sama = tahun_luas.intersection(tahun_produksi)\n",
    "\n",
    "print(f\"Tahun di data luas lahan: {sorted(tahun_luas)}\")\n",
    "print(f\"Tahun di data produksi: {sorted(tahun_produksi)}\")\n",
    "print(f\"Tahun yang sama: {sorted(tahun_sama)}\")\n",
    "\n",
    "# Filter hanya tahun yang sama\n",
    "tahun_untuk_gabung = sorted(list(tahun_sama))\n",
    "print(f\"Akan menggabungkan data untuk tahun: {tahun_untuk_gabung}\")"
   ]
  },
  {
   "cell_type": "code",
   "execution_count": 46,
   "id": "e273b0e9",
   "metadata": {},
   "outputs": [
    {
     "name": "stdout",
     "output_type": "stream",
     "text": [
      "\n",
      "=== LANGKAH 5: GABUNGKAN DATA ===\n",
      "Hasil penggabungan:\n",
      "Jumlah kabupaten: 35\n",
      "Jumlah kolom: 13\n",
      "Kolom: ['KABKOTA', 'Luas_2019', 'Luas_2020', 'Luas_2021', 'Luas_2022', 'Luas_2023', 'Luas_2024', 'Produksi_2019', 'Produksi_2020', 'Produksi_2021', 'Produksi_2022', 'Produksi_2023', 'Produksi_2024']\n",
      "\n",
      "Sample data hasil gabungan:\n",
      "      KABKOTA  Luas_2019  Luas_2020  Luas_2021  Luas_2022  Luas_2023  \\\n",
      "0  ACEH UTARA       53.0      107.0       72.0       72.0       13.0   \n",
      "1   BANGKALAN      194.0      194.0      188.0      188.0      187.0   \n",
      "2        BIMA     1692.0     1709.0     1742.0      993.0     1778.0   \n",
      "3      BREBES      560.0      575.0      366.0      234.0      409.0   \n",
      "4    BULELENG       29.0      114.0       82.0       82.0       63.0   \n",
      "\n",
      "   Luas_2024  Produksi_2019  Produksi_2020  Produksi_2021  Produksi_2022  \\\n",
      "0        1.0        1688.71        1523.45        1513.30        1822.34   \n",
      "1      172.0       19014.24        6560.61        6760.99        1290.34   \n",
      "2      664.0      187632.95       97209.71       97982.38       95148.98   \n",
      "3      565.0       50019.75        6001.99        1428.70        1278.73   \n",
      "4       88.0        3385.38        6291.25        3327.31        1363.70   \n",
      "\n",
      "   Produksi_2023  Produksi_2024  \n",
      "0        1485.58        1023.56  \n",
      "1       11764.08       13317.92  \n",
      "2      196260.86       35639.21  \n",
      "3       35668.64       12784.87  \n",
      "4        2866.17        7049.63  \n"
     ]
    }
   ],
   "source": [
    "print(\"\\n=== LANGKAH 5: GABUNGKAN DATA ===\")\n",
    "\n",
    "# Filter data hanya untuk kabupaten dan tahun yang sama\n",
    "df_luas_filter = df_luas_clean[df_luas_clean['KABKOTA'].isin(kabupaten_sama)]\n",
    "df_produksi_filter = df_produksi_clean[df_produksi_clean['KABKOTA'].isin(kabupaten_sama)]\n",
    "\n",
    "# Siapkan kolom untuk penggabungan\n",
    "kolom_gabung = ['KABKOTA'] + tahun_untuk_gabung\n",
    "\n",
    "# Ambil hanya kolom yang diperlukan\n",
    "df_luas_final = df_luas_filter[kolom_gabung].copy()\n",
    "df_produksi_final = df_produksi_filter[kolom_gabung].copy()\n",
    "\n",
    "# Rename kolom untuk membedakan luas dan produksi\n",
    "kolom_luas_rename = {'KABKOTA': 'KABKOTA'}\n",
    "kolom_produksi_rename = {'KABKOTA': 'KABKOTA'}\n",
    "\n",
    "for tahun in tahun_untuk_gabung:\n",
    "    kolom_luas_rename[tahun] = f'Luas_{tahun}'\n",
    "    kolom_produksi_rename[tahun] = f'Produksi_{tahun}'\n",
    "\n",
    "df_luas_final = df_luas_final.rename(columns=kolom_luas_rename)\n",
    "df_produksi_final = df_produksi_final.rename(columns=kolom_produksi_rename)\n",
    "\n",
    "# Gabungkan berdasarkan KABKOTA\n",
    "df_gabungan = pd.merge(df_luas_final, df_produksi_final, on='KABKOTA', how='inner')\n",
    "\n",
    "print(f\"Hasil penggabungan:\")\n",
    "print(f\"Jumlah kabupaten: {len(df_gabungan)}\")\n",
    "print(f\"Jumlah kolom: {len(df_gabungan.columns)}\")\n",
    "print(f\"Kolom: {list(df_gabungan.columns)}\")\n",
    "\n",
    "# Tampilkan sample hasil\n",
    "print(f\"\\nSample data hasil gabungan:\")\n",
    "print(df_gabungan.head())"
   ]
  },
  {
   "cell_type": "code",
   "execution_count": 47,
   "id": "53980863",
   "metadata": {},
   "outputs": [
    {
     "name": "stdout",
     "output_type": "stream",
     "text": [
      "\n",
      "=== LANGKAH 7: SIMPAN HASIL ===\n"
     ]
    },
    {
     "ename": "PermissionError",
     "evalue": "[Errno 13] Permission denied: 'data_gabungan_luas_produksi.xlsx'",
     "output_type": "error",
     "traceback": [
      "\u001b[31m---------------------------------------------------------------------------\u001b[39m",
      "\u001b[31mPermissionError\u001b[39m                           Traceback (most recent call last)",
      "\u001b[36mCell\u001b[39m\u001b[36m \u001b[39m\u001b[32mIn[47]\u001b[39m\u001b[32m, line 7\u001b[39m\n\u001b[32m      4\u001b[39m df_gabungan = df_gabungan.sort_values(\u001b[33m'\u001b[39m\u001b[33mKABKOTA\u001b[39m\u001b[33m'\u001b[39m)\n\u001b[32m      6\u001b[39m \u001b[38;5;66;03m# Simpan ke Excel\u001b[39;00m\n\u001b[32m----> \u001b[39m\u001b[32m7\u001b[39m \u001b[43mdf_gabungan\u001b[49m\u001b[43m.\u001b[49m\u001b[43mto_excel\u001b[49m\u001b[43m(\u001b[49m\u001b[33;43m\"\u001b[39;49m\u001b[33;43mdata_gabungan_luas_produksi.xlsx\u001b[39;49m\u001b[33;43m\"\u001b[39;49m\u001b[43m,\u001b[49m\u001b[43m \u001b[49m\u001b[43mindex\u001b[49m\u001b[43m=\u001b[49m\u001b[38;5;28;43;01mFalse\u001b[39;49;00m\u001b[43m)\u001b[49m\n\u001b[32m      9\u001b[39m \u001b[38;5;28mprint\u001b[39m(\u001b[33m\"\u001b[39m\u001b[33mData berhasil disimpan ke \u001b[39m\u001b[33m'\u001b[39m\u001b[33mdata_gabungan_luas_produksi.xlsx\u001b[39m\u001b[33m'\u001b[39m\u001b[33m\"\u001b[39m)\n\u001b[32m     11\u001b[39m \u001b[38;5;66;03m# Ringkasan hasil\u001b[39;00m\n",
      "\u001b[36mFile \u001b[39m\u001b[32mc:\\Users\\Abdul Rahem Faqih\\AppData\\Local\\Programs\\Python\\Python312\\Lib\\site-packages\\pandas\\util\\_decorators.py:333\u001b[39m, in \u001b[36mdeprecate_nonkeyword_arguments.<locals>.decorate.<locals>.wrapper\u001b[39m\u001b[34m(*args, **kwargs)\u001b[39m\n\u001b[32m    327\u001b[39m \u001b[38;5;28;01mif\u001b[39;00m \u001b[38;5;28mlen\u001b[39m(args) > num_allow_args:\n\u001b[32m    328\u001b[39m     warnings.warn(\n\u001b[32m    329\u001b[39m         msg.format(arguments=_format_argument_list(allow_args)),\n\u001b[32m    330\u001b[39m         \u001b[38;5;167;01mFutureWarning\u001b[39;00m,\n\u001b[32m    331\u001b[39m         stacklevel=find_stack_level(),\n\u001b[32m    332\u001b[39m     )\n\u001b[32m--> \u001b[39m\u001b[32m333\u001b[39m \u001b[38;5;28;01mreturn\u001b[39;00m \u001b[43mfunc\u001b[49m\u001b[43m(\u001b[49m\u001b[43m*\u001b[49m\u001b[43margs\u001b[49m\u001b[43m,\u001b[49m\u001b[43m \u001b[49m\u001b[43m*\u001b[49m\u001b[43m*\u001b[49m\u001b[43mkwargs\u001b[49m\u001b[43m)\u001b[49m\n",
      "\u001b[36mFile \u001b[39m\u001b[32mc:\\Users\\Abdul Rahem Faqih\\AppData\\Local\\Programs\\Python\\Python312\\Lib\\site-packages\\pandas\\core\\generic.py:2436\u001b[39m, in \u001b[36mNDFrame.to_excel\u001b[39m\u001b[34m(self, excel_writer, sheet_name, na_rep, float_format, columns, header, index, index_label, startrow, startcol, engine, merge_cells, inf_rep, freeze_panes, storage_options, engine_kwargs)\u001b[39m\n\u001b[32m   2423\u001b[39m \u001b[38;5;28;01mfrom\u001b[39;00m\u001b[38;5;250m \u001b[39m\u001b[34;01mpandas\u001b[39;00m\u001b[34;01m.\u001b[39;00m\u001b[34;01mio\u001b[39;00m\u001b[34;01m.\u001b[39;00m\u001b[34;01mformats\u001b[39;00m\u001b[34;01m.\u001b[39;00m\u001b[34;01mexcel\u001b[39;00m\u001b[38;5;250m \u001b[39m\u001b[38;5;28;01mimport\u001b[39;00m ExcelFormatter\n\u001b[32m   2425\u001b[39m formatter = ExcelFormatter(\n\u001b[32m   2426\u001b[39m     df,\n\u001b[32m   2427\u001b[39m     na_rep=na_rep,\n\u001b[32m   (...)\u001b[39m\u001b[32m   2434\u001b[39m     inf_rep=inf_rep,\n\u001b[32m   2435\u001b[39m )\n\u001b[32m-> \u001b[39m\u001b[32m2436\u001b[39m \u001b[43mformatter\u001b[49m\u001b[43m.\u001b[49m\u001b[43mwrite\u001b[49m\u001b[43m(\u001b[49m\n\u001b[32m   2437\u001b[39m \u001b[43m    \u001b[49m\u001b[43mexcel_writer\u001b[49m\u001b[43m,\u001b[49m\n\u001b[32m   2438\u001b[39m \u001b[43m    \u001b[49m\u001b[43msheet_name\u001b[49m\u001b[43m=\u001b[49m\u001b[43msheet_name\u001b[49m\u001b[43m,\u001b[49m\n\u001b[32m   2439\u001b[39m \u001b[43m    \u001b[49m\u001b[43mstartrow\u001b[49m\u001b[43m=\u001b[49m\u001b[43mstartrow\u001b[49m\u001b[43m,\u001b[49m\n\u001b[32m   2440\u001b[39m \u001b[43m    \u001b[49m\u001b[43mstartcol\u001b[49m\u001b[43m=\u001b[49m\u001b[43mstartcol\u001b[49m\u001b[43m,\u001b[49m\n\u001b[32m   2441\u001b[39m \u001b[43m    \u001b[49m\u001b[43mfreeze_panes\u001b[49m\u001b[43m=\u001b[49m\u001b[43mfreeze_panes\u001b[49m\u001b[43m,\u001b[49m\n\u001b[32m   2442\u001b[39m \u001b[43m    \u001b[49m\u001b[43mengine\u001b[49m\u001b[43m=\u001b[49m\u001b[43mengine\u001b[49m\u001b[43m,\u001b[49m\n\u001b[32m   2443\u001b[39m \u001b[43m    \u001b[49m\u001b[43mstorage_options\u001b[49m\u001b[43m=\u001b[49m\u001b[43mstorage_options\u001b[49m\u001b[43m,\u001b[49m\n\u001b[32m   2444\u001b[39m \u001b[43m    \u001b[49m\u001b[43mengine_kwargs\u001b[49m\u001b[43m=\u001b[49m\u001b[43mengine_kwargs\u001b[49m\u001b[43m,\u001b[49m\n\u001b[32m   2445\u001b[39m \u001b[43m\u001b[49m\u001b[43m)\u001b[49m\n",
      "\u001b[36mFile \u001b[39m\u001b[32mc:\\Users\\Abdul Rahem Faqih\\AppData\\Local\\Programs\\Python\\Python312\\Lib\\site-packages\\pandas\\io\\formats\\excel.py:943\u001b[39m, in \u001b[36mExcelFormatter.write\u001b[39m\u001b[34m(self, writer, sheet_name, startrow, startcol, freeze_panes, engine, storage_options, engine_kwargs)\u001b[39m\n\u001b[32m    941\u001b[39m     need_save = \u001b[38;5;28;01mFalse\u001b[39;00m\n\u001b[32m    942\u001b[39m \u001b[38;5;28;01melse\u001b[39;00m:\n\u001b[32m--> \u001b[39m\u001b[32m943\u001b[39m     writer = \u001b[43mExcelWriter\u001b[49m\u001b[43m(\u001b[49m\n\u001b[32m    944\u001b[39m \u001b[43m        \u001b[49m\u001b[43mwriter\u001b[49m\u001b[43m,\u001b[49m\n\u001b[32m    945\u001b[39m \u001b[43m        \u001b[49m\u001b[43mengine\u001b[49m\u001b[43m=\u001b[49m\u001b[43mengine\u001b[49m\u001b[43m,\u001b[49m\n\u001b[32m    946\u001b[39m \u001b[43m        \u001b[49m\u001b[43mstorage_options\u001b[49m\u001b[43m=\u001b[49m\u001b[43mstorage_options\u001b[49m\u001b[43m,\u001b[49m\n\u001b[32m    947\u001b[39m \u001b[43m        \u001b[49m\u001b[43mengine_kwargs\u001b[49m\u001b[43m=\u001b[49m\u001b[43mengine_kwargs\u001b[49m\u001b[43m,\u001b[49m\n\u001b[32m    948\u001b[39m \u001b[43m    \u001b[49m\u001b[43m)\u001b[49m\n\u001b[32m    949\u001b[39m     need_save = \u001b[38;5;28;01mTrue\u001b[39;00m\n\u001b[32m    951\u001b[39m \u001b[38;5;28;01mtry\u001b[39;00m:\n",
      "\u001b[36mFile \u001b[39m\u001b[32mc:\\Users\\Abdul Rahem Faqih\\AppData\\Local\\Programs\\Python\\Python312\\Lib\\site-packages\\pandas\\io\\excel\\_openpyxl.py:61\u001b[39m, in \u001b[36mOpenpyxlWriter.__init__\u001b[39m\u001b[34m(self, path, engine, date_format, datetime_format, mode, storage_options, if_sheet_exists, engine_kwargs, **kwargs)\u001b[39m\n\u001b[32m     57\u001b[39m \u001b[38;5;28;01mfrom\u001b[39;00m\u001b[38;5;250m \u001b[39m\u001b[34;01mopenpyxl\u001b[39;00m\u001b[34;01m.\u001b[39;00m\u001b[34;01mworkbook\u001b[39;00m\u001b[38;5;250m \u001b[39m\u001b[38;5;28;01mimport\u001b[39;00m Workbook\n\u001b[32m     59\u001b[39m engine_kwargs = combine_kwargs(engine_kwargs, kwargs)\n\u001b[32m---> \u001b[39m\u001b[32m61\u001b[39m \u001b[38;5;28;43msuper\u001b[39;49m\u001b[43m(\u001b[49m\u001b[43m)\u001b[49m\u001b[43m.\u001b[49m\u001b[34;43m__init__\u001b[39;49m\u001b[43m(\u001b[49m\n\u001b[32m     62\u001b[39m \u001b[43m    \u001b[49m\u001b[43mpath\u001b[49m\u001b[43m,\u001b[49m\n\u001b[32m     63\u001b[39m \u001b[43m    \u001b[49m\u001b[43mmode\u001b[49m\u001b[43m=\u001b[49m\u001b[43mmode\u001b[49m\u001b[43m,\u001b[49m\n\u001b[32m     64\u001b[39m \u001b[43m    \u001b[49m\u001b[43mstorage_options\u001b[49m\u001b[43m=\u001b[49m\u001b[43mstorage_options\u001b[49m\u001b[43m,\u001b[49m\n\u001b[32m     65\u001b[39m \u001b[43m    \u001b[49m\u001b[43mif_sheet_exists\u001b[49m\u001b[43m=\u001b[49m\u001b[43mif_sheet_exists\u001b[49m\u001b[43m,\u001b[49m\n\u001b[32m     66\u001b[39m \u001b[43m    \u001b[49m\u001b[43mengine_kwargs\u001b[49m\u001b[43m=\u001b[49m\u001b[43mengine_kwargs\u001b[49m\u001b[43m,\u001b[49m\n\u001b[32m     67\u001b[39m \u001b[43m\u001b[49m\u001b[43m)\u001b[49m\n\u001b[32m     69\u001b[39m \u001b[38;5;66;03m# ExcelWriter replaced \"a\" by \"r+\" to allow us to first read the excel file from\u001b[39;00m\n\u001b[32m     70\u001b[39m \u001b[38;5;66;03m# the file and later write to it\u001b[39;00m\n\u001b[32m     71\u001b[39m \u001b[38;5;28;01mif\u001b[39;00m \u001b[33m\"\u001b[39m\u001b[33mr+\u001b[39m\u001b[33m\"\u001b[39m \u001b[38;5;129;01min\u001b[39;00m \u001b[38;5;28mself\u001b[39m._mode:  \u001b[38;5;66;03m# Load from existing workbook\u001b[39;00m\n",
      "\u001b[36mFile \u001b[39m\u001b[32mc:\\Users\\Abdul Rahem Faqih\\AppData\\Local\\Programs\\Python\\Python312\\Lib\\site-packages\\pandas\\io\\excel\\_base.py:1246\u001b[39m, in \u001b[36mExcelWriter.__init__\u001b[39m\u001b[34m(self, path, engine, date_format, datetime_format, mode, storage_options, if_sheet_exists, engine_kwargs)\u001b[39m\n\u001b[32m   1242\u001b[39m \u001b[38;5;28mself\u001b[39m._handles = IOHandles(\n\u001b[32m   1243\u001b[39m     cast(IO[\u001b[38;5;28mbytes\u001b[39m], path), compression={\u001b[33m\"\u001b[39m\u001b[33mcompression\u001b[39m\u001b[33m\"\u001b[39m: \u001b[38;5;28;01mNone\u001b[39;00m}\n\u001b[32m   1244\u001b[39m )\n\u001b[32m   1245\u001b[39m \u001b[38;5;28;01mif\u001b[39;00m \u001b[38;5;129;01mnot\u001b[39;00m \u001b[38;5;28misinstance\u001b[39m(path, ExcelWriter):\n\u001b[32m-> \u001b[39m\u001b[32m1246\u001b[39m     \u001b[38;5;28mself\u001b[39m._handles = \u001b[43mget_handle\u001b[49m\u001b[43m(\u001b[49m\n\u001b[32m   1247\u001b[39m \u001b[43m        \u001b[49m\u001b[43mpath\u001b[49m\u001b[43m,\u001b[49m\u001b[43m \u001b[49m\u001b[43mmode\u001b[49m\u001b[43m,\u001b[49m\u001b[43m \u001b[49m\u001b[43mstorage_options\u001b[49m\u001b[43m=\u001b[49m\u001b[43mstorage_options\u001b[49m\u001b[43m,\u001b[49m\u001b[43m \u001b[49m\u001b[43mis_text\u001b[49m\u001b[43m=\u001b[49m\u001b[38;5;28;43;01mFalse\u001b[39;49;00m\n\u001b[32m   1248\u001b[39m \u001b[43m    \u001b[49m\u001b[43m)\u001b[49m\n\u001b[32m   1249\u001b[39m \u001b[38;5;28mself\u001b[39m._cur_sheet = \u001b[38;5;28;01mNone\u001b[39;00m\n\u001b[32m   1251\u001b[39m \u001b[38;5;28;01mif\u001b[39;00m date_format \u001b[38;5;129;01mis\u001b[39;00m \u001b[38;5;28;01mNone\u001b[39;00m:\n",
      "\u001b[36mFile \u001b[39m\u001b[32mc:\\Users\\Abdul Rahem Faqih\\AppData\\Local\\Programs\\Python\\Python312\\Lib\\site-packages\\pandas\\io\\common.py:882\u001b[39m, in \u001b[36mget_handle\u001b[39m\u001b[34m(path_or_buf, mode, encoding, compression, memory_map, is_text, errors, storage_options)\u001b[39m\n\u001b[32m    873\u001b[39m         handle = \u001b[38;5;28mopen\u001b[39m(\n\u001b[32m    874\u001b[39m             handle,\n\u001b[32m    875\u001b[39m             ioargs.mode,\n\u001b[32m   (...)\u001b[39m\u001b[32m    878\u001b[39m             newline=\u001b[33m\"\u001b[39m\u001b[33m\"\u001b[39m,\n\u001b[32m    879\u001b[39m         )\n\u001b[32m    880\u001b[39m     \u001b[38;5;28;01melse\u001b[39;00m:\n\u001b[32m    881\u001b[39m         \u001b[38;5;66;03m# Binary mode\u001b[39;00m\n\u001b[32m--> \u001b[39m\u001b[32m882\u001b[39m         handle = \u001b[38;5;28;43mopen\u001b[39;49m\u001b[43m(\u001b[49m\u001b[43mhandle\u001b[49m\u001b[43m,\u001b[49m\u001b[43m \u001b[49m\u001b[43mioargs\u001b[49m\u001b[43m.\u001b[49m\u001b[43mmode\u001b[49m\u001b[43m)\u001b[49m\n\u001b[32m    883\u001b[39m     handles.append(handle)\n\u001b[32m    885\u001b[39m \u001b[38;5;66;03m# Convert BytesIO or file objects passed with an encoding\u001b[39;00m\n",
      "\u001b[31mPermissionError\u001b[39m: [Errno 13] Permission denied: 'data_gabungan_luas_produksi.xlsx'"
     ]
    }
   ],
   "source": [
    "print(\"\\n=== LANGKAH 7: SIMPAN HASIL ===\")\n",
    "\n",
    "# Urutkan berdasarkan kabupaten\n",
    "df_gabungan = df_gabungan.sort_values('KABKOTA')\n",
    "\n",
    "# Simpan ke Excel\n",
    "df_gabungan.to_excel(\"data_gabungan_luas_produksi.xlsx\", index=False)\n",
    "\n",
    "print(\"Data berhasil disimpan ke 'data_gabungan_luas_produksi.xlsx'\")\n",
    "\n",
    "# Ringkasan hasil\n",
    "print(f\"\\n=== RINGKASAN HASIL ===\")\n",
    "print(f\"• Total kabupaten yang berhasil digabung: {len(df_gabungan)}\")\n",
    "print(f\"• Tahun yang dianalisis: {tahun_untuk_gabung}\")\n",
    "print(f\"• Kolom dalam file hasil:\")\n",
    "for col in df_gabungan.columns:\n",
    "    print(f\"  - {col}\")\n",
    "\n",
    "# Tampilkan sample akhir\n",
    "print(f\"\\nContoh 3 baris pertama:\")\n",
    "print(df_gabungan[['KABKOTA'] + [col for col in df_gabungan.columns if 'Luas_' in col or 'Produksi_' in col][:4]].head(3))"
   ]
  },
  {
   "cell_type": "code",
   "execution_count": 48,
   "id": "62dbfe80",
   "metadata": {},
   "outputs": [
    {
     "name": "stdout",
     "output_type": "stream",
     "text": [
      "Kolom luas yang ditemukan: ['Luas_2019', 'Luas_2020', 'Luas_2021', 'Luas_2022', 'Luas_2023', 'Luas_2024']\n",
      "Kolom produksi yang ditemukan: ['Produksi_2019', 'Produksi_2020', 'Produksi_2021', 'Produksi_2022', 'Produksi_2023', 'Produksi_2024']\n",
      "\n",
      "Hasil konversi ke format long:\n",
      "Jumlah baris: 210 (seharusnya 35 × 6 = 210)\n",
      "Kolom: ['KABKOTA', 'Luas_Lahan', 'Tahun', 'Produksi_Garam', 'Produktivitas']\n",
      "\n",
      "Sample data format long (5 baris pertama):\n",
      "        KABKOTA  Luas_Lahan Tahun  Produksi_Garam  Produktivitas\n",
      "0    ACEH UTARA        53.0  2019         1688.71      31.862453\n",
      "35   ACEH UTARA       107.0  2020         1523.45      14.237850\n",
      "70   ACEH UTARA        72.0  2021         1513.30      21.018056\n",
      "105  ACEH UTARA        72.0  2022         1822.34      25.310278\n",
      "140  ACEH UTARA        13.0  2023         1485.58     114.275385\n",
      "\n",
      "Contoh data untuk ACEH UTARA semua tahun:\n",
      "        KABKOTA  Luas_Lahan Tahun  Produksi_Garam  Produktivitas\n",
      "0    ACEH UTARA        53.0  2019         1688.71      31.862453\n",
      "35   ACEH UTARA       107.0  2020         1523.45      14.237850\n",
      "70   ACEH UTARA        72.0  2021         1513.30      21.018056\n",
      "105  ACEH UTARA        72.0  2022         1822.34      25.310278\n",
      "140  ACEH UTARA        13.0  2023         1485.58     114.275385\n",
      "175  ACEH UTARA         1.0  2024         1023.56    1023.560000\n"
     ]
    }
   ],
   "source": [
    "# Identifikasi kolom luas dan produksi\n",
    "kolom_luas = [col for col in df_gabungan.columns if col.startswith('Luas_')]\n",
    "kolom_produksi = [col for col in df_gabungan.columns if col.startswith('Produksi_')]\n",
    "\n",
    "print(f\"Kolom luas yang ditemukan: {kolom_luas}\")\n",
    "print(f\"Kolom produksi yang ditemukan: {kolom_produksi}\")\n",
    "\n",
    "# Melt data luas lahan\n",
    "df_luas_long = pd.melt(\n",
    "    df_gabungan[['KABKOTA'] + kolom_luas],\n",
    "    id_vars=['KABKOTA'],\n",
    "    value_vars=kolom_luas,\n",
    "    var_name='Tahun_Luas',\n",
    "    value_name='Luas_Lahan'\n",
    ")\n",
    "\n",
    "# Extract tahun dari kolom Tahun_Luas (dari 'Luas_2019' jadi '2019')\n",
    "df_luas_long['Tahun'] = df_luas_long['Tahun_Luas'].str.replace('Luas_', '')\n",
    "df_luas_long = df_luas_long.drop('Tahun_Luas', axis=1)\n",
    "\n",
    "# Melt data produksi\n",
    "df_produksi_long = pd.melt(\n",
    "    df_gabungan[['KABKOTA'] + kolom_produksi],\n",
    "    id_vars=['KABKOTA'],\n",
    "    value_vars=kolom_produksi,\n",
    "    var_name='Tahun_Produksi',\n",
    "    value_name='Produksi_Garam'\n",
    ")\n",
    "\n",
    "# Extract tahun dari kolom Tahun_Produksi\n",
    "df_produksi_long['Tahun'] = df_produksi_long['Tahun_Produksi'].str.replace('Produksi_', '')\n",
    "df_produksi_long = df_produksi_long.drop('Tahun_Produksi', axis=1)\n",
    "\n",
    "# Gabungkan data long luas dan produksi\n",
    "df_long = pd.merge(\n",
    "    df_luas_long,\n",
    "    df_produksi_long,\n",
    "    on=['KABKOTA', 'Tahun'],\n",
    "    how='inner'\n",
    ")\n",
    "\n",
    "# Hitung produktivitas\n",
    "df_long['Produktivitas'] = df_long['Produksi_Garam'] / df_long['Luas_Lahan']\n",
    "\n",
    "# Urutkan berdasarkan kabupaten dan tahun\n",
    "df_long = df_long.sort_values(['KABKOTA', 'Tahun'])\n",
    "\n",
    "print(f\"\\nHasil konversi ke format long:\")\n",
    "print(f\"Jumlah baris: {len(df_long)} (seharusnya {len(df_gabungan)} × {len(tahun_untuk_gabung)} = {len(df_gabungan) * len(tahun_untuk_gabung)})\")\n",
    "print(f\"Kolom: {list(df_long.columns)}\")\n",
    "\n",
    "# Tampilkan sample\n",
    "print(f\"\\nSample data format long (5 baris pertama):\")\n",
    "print(df_long.head())\n",
    "\n",
    "# Tampilkan data untuk satu kabupaten\n",
    "sample_kabupaten = df_long['KABKOTA'].iloc[0]\n",
    "print(f\"\\nContoh data untuk {sample_kabupaten} semua tahun:\")\n",
    "print(df_long[df_long['KABKOTA'] == sample_kabupaten])"
   ]
  },
  {
   "cell_type": "code",
   "execution_count": 49,
   "id": "a4bd4878",
   "metadata": {},
   "outputs": [
    {
     "name": "stdout",
     "output_type": "stream",
     "text": [
      "✅ Format LONG disimpan ke: 'data_gabungan_luas_produksi_long.xlsx'\n"
     ]
    }
   ],
   "source": [
    "# Simpan format long\n",
    "df_long.to_excel(\"data_gabungan_luas_produksi_long.xlsx\", index=False)\n",
    "print(\"✅ Format LONG disimpan ke: 'data_gabungan_luas_produksi_long.xlsx'\")\n"
   ]
  }
 ],
 "metadata": {
  "kernelspec": {
   "display_name": "Python 3",
   "language": "python",
   "name": "python3"
  },
  "language_info": {
   "codemirror_mode": {
    "name": "ipython",
    "version": 3
   },
   "file_extension": ".py",
   "mimetype": "text/x-python",
   "name": "python",
   "nbconvert_exporter": "python",
   "pygments_lexer": "ipython3",
   "version": "3.12.8"
  }
 },
 "nbformat": 4,
 "nbformat_minor": 5
}
